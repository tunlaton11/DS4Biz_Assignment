{
 "cells": [
  {
   "cell_type": "markdown",
   "metadata": {
    "id": "isLnpeSqXInY"
   },
   "source": [
    "# Task 1: API ที่นำมาใช้"
   ]
  },
  {
   "cell_type": "markdown",
   "metadata": {},
   "source": [
    "จัดทำโดย นายตุลธร วงศ์ชัย รหัสนักศึกษา 63070224"
   ]
  },
  {
   "cell_type": "markdown",
   "metadata": {
    "id": "Hd2_oCSrXUNi"
   },
   "source": [
    "สำหรับ API ที่นำมาใช้งานมีชื่อว่า ภาษีไปไหน? ซึ่งเกี่ยวกับการใช้งบประมาณจากภาษีของประชาชนแจกจ่ายไปให้แก่หน่วยงานของภาครัฐ source: https://govspending.data.go.th/api/documentation"
   ]
  },
  {
   "cell_type": "markdown",
   "metadata": {
    "id": "zaFxr9Wr9YK1"
   },
   "source": [
    "## Import Packages"
   ]
  },
  {
   "cell_type": "code",
   "execution_count": null,
   "metadata": {
    "id": "9ftwltIC9XmA"
   },
   "outputs": [],
   "source": [
    "import pandas as pd\n",
    "import matplotlib.pyplot as plt\n",
    "import requests\n",
    "import urllib.request\n",
    "import json\n",
    "import csv\n",
    "from datetime import datetime\n",
    "import numpy as np"
   ]
  },
  {
   "cell_type": "code",
   "execution_count": null,
   "metadata": {
    "id": "GJ4tkGiT6DCi"
   },
   "outputs": [],
   "source": [
    "api_key = \"Y8DPWYVlNC4668nI7DjJS3GSmQR4ZcVR\""
   ]
  },
  {
   "cell_type": "markdown",
   "metadata": {
    "id": "X2JHKGg8XfwI"
   },
   "source": [
    "# Task 2: Collect data from API"
   ]
  },
  {
   "cell_type": "markdown",
   "metadata": {},
   "source": [
    "ทางผู้จัดทำต้องการข้อมูลของหน่วยงานที่อยู่ใน `กรุงเทพมหานคร` จึงมีวิธีขึ้นตอนดังนี้\n",
    "1. ทำการ requests เพื่อหา `dept_code` ของ `กรุงเทพมหานคร`\n",
    "2. นำ `dept_code` ที่ได้จากขึ้นตอนแรกมาเป็น parameter เพื่อใช้ในการ requests ข้อมูลของ `กรุงเทพมหานคร`\n",
    "3. ทำการเขียนข้อมูลที่ได้รับ response กลับมาให้อยู่ใน format `.csv`"
   ]
  },
  {
   "cell_type": "code",
   "execution_count": null,
   "metadata": {
    "id": "Qo-RG7bVS-aD"
   },
   "outputs": [],
   "source": [
    "def find_dept_code(dept_name, api_key):\n",
    "  url = f\"https://opend.data.go.th/govspending/egpdepartment?api-key={api_key}&limit=10&dept_name={dept_name}\"\n",
    "  response = requests.get(url)\n",
    "  data = response.json()\n",
    "\n",
    "  bkk_code = ''\n",
    "  for i in data['result']:\n",
    "    if i['dept_name'] == 'กรุงเทพมหานคร':\n",
    "      bkk_code = i['dept_code']\n",
    "      break\n",
    "\n",
    "  return bkk_code  # string\n",
    "\n",
    "def get_raw_data(limit, api_key, year, dept_code):\n",
    "  url = f\"https://opend.data.go.th/govspending/cgdcontract?api-key={api_key}&year={year}&limit={limit}&dept_code={dept_code}\"\n",
    "  response = requests.get(url)\n",
    "  data = response.json()\n",
    "  data = data['result']\n",
    "\n",
    "  for i in data: # ทำการแตกข้อมูลใน list ของ contract ออกมา\n",
    "    i.update(i['contract'][0])\n",
    "    del i['contract']\n",
    "\n",
    "  return data # object(dict)\n",
    "\n",
    "def write_to_csv(file_path, heading, rows):\n",
    "  with open(file_path, 'w', encoding='UTF8', newline='') as f:\n",
    "    writer = csv.DictWriter(f, fieldnames=heading)\n",
    "    writer.writeheader()\n",
    "    writer.writerows(rows)\n"
   ]
  },
  {
   "cell_type": "markdown",
   "metadata": {
    "id": "X5A-K0nbniVL"
   },
   "source": [
    "# Task 3: Parse the data to .csv format"
   ]
  },
  {
   "cell_type": "markdown",
   "metadata": {},
   "source": [
    "สร้าง folder ที่ชื่อว่า data แล้วสร้างไฟล์เปล่า bkk_CGDContract_data.csv ด้วย UNIX Command"
   ]
  },
  {
   "cell_type": "code",
   "execution_count": null,
   "metadata": {
    "id": "06ag16GUnPf1"
   },
   "outputs": [],
   "source": [
    "!mkdir data\n",
    "!cd data && touch bkk_CGDContract_data.csv"
   ]
  },
  {
   "cell_type": "markdown",
   "metadata": {},
   "source": [
    "นำ function ที่สร้างจาก Task2 มาใช้ในการดึงข้อมูล โดยจะดึงข้อมูลจากหน่วยงาน `กรุงเทพมหานคร` จากปี พ.ศ. 2558 - 2564 ปีละ 400 objects รวมเป็น 2800 objects"
   ]
  },
  {
   "cell_type": "code",
   "execution_count": null,
   "metadata": {
    "id": "vl4ujA-Jus90"
   },
   "outputs": [],
   "source": [
    "# หา dept_code ของ \"กรุงเทพมหานคร\"\n",
    "bkk_dept_code = find_dept_code(\"กรุงเทพมหานคร\", api_key)\n",
    "\n",
    "# ดึงข้อมูลจากหน่วยงาน \"กรุงเทพมหานคร\" จากปี พ.ศ. 2558 - 2564 ปีละ 400 objects รวมเป็น 2800 objects\n",
    "raw_data = []\n",
    "for year in range(2558, 2565):\n",
    "  raw_data += get_raw_data(400, api_key, year, bkk_dept_code)"
   ]
  },
  {
   "cell_type": "code",
   "execution_count": null,
   "metadata": {
    "colab": {
     "base_uri": "https://localhost:8080/"
    },
    "id": "eLQRNxbFx9RM",
    "outputId": "b73f9159-855e-44a2-aa0b-9cc52a184fbe"
   },
   "outputs": [],
   "source": [
    "# หา columns ของข้อมูล\n",
    "heading = list(raw_data[0].keys())\n",
    "heading"
   ]
  },
  {
   "cell_type": "markdown",
   "metadata": {},
   "source": [
    "เขียนข้อมูลลงบนไฟล์ bkk_CGDContract_data.csv ไว้ใน folder data"
   ]
  },
  {
   "cell_type": "code",
   "execution_count": null,
   "metadata": {
    "id": "GNvlLTmbyPQi"
   },
   "outputs": [],
   "source": [
    "write_to_csv('/data/bkk_CGDContract_data.csv', heading, raw_data)"
   ]
  },
  {
   "cell_type": "markdown",
   "metadata": {
    "id": "Yp_eZiVGzp2c"
   },
   "source": [
    "# Task 4: Load Data and Pre-processing"
   ]
  },
  {
   "cell_type": "markdown",
   "metadata": {},
   "source": [
    "หลังจากได้ไฟล์ bkk_CGDContract_data.csv ที่มีข้อมูลทั้งหมด 2800 แถว จึงนำมาทำการอ่านข้อมูลใน pandas และทำการ pre-processing ก่อนนำไปวิเคราะห์ต่อไป"
   ]
  },
  {
   "cell_type": "code",
   "execution_count": null,
   "metadata": {
    "colab": {
     "base_uri": "https://localhost:8080/",
     "height": 1000
    },
    "id": "cHuYrTCzzt5M",
    "outputId": "1f2220bc-6769-42de-e5a4-a55a330cc762"
   },
   "outputs": [],
   "source": [
    "df = pd.read_csv('/data/bkk_CGDContract_data.csv', encoding='utf8')\n",
    "df"
   ]
  },
  {
   "cell_type": "markdown",
   "metadata": {},
   "source": [
    "Replace \"-\" to null"
   ]
  },
  {
   "cell_type": "code",
   "execution_count": null,
   "metadata": {
    "id": "jvx1O_6nWHdV"
   },
   "outputs": [],
   "source": [
    "df = df.replace({'-': None})"
   ]
  },
  {
   "cell_type": "markdown",
   "metadata": {},
   "source": [
    " เนื่องจากข้อมูลวันที่อยู่ในรูปแบบของไทย จึงสร้างฟังชั่นเพื่อแปลงให้อยู่ในรูปแบบที่อ่านได้ใน pandas\n",
    " ได้แก่ columns `announce_date`, `transaction_date`, `contract_date`, `contract_finish_date`"
   ]
  },
  {
   "cell_type": "code",
   "execution_count": null,
   "metadata": {
    "id": "j8OcGj7nYrPr"
   },
   "outputs": [],
   "source": [
    "# Parse Thai date to general date\n",
    "def convert_thai_date(value):\n",
    "  if value == None:\n",
    "    return None\n",
    "\n",
    "  value = value.split(' ')\n",
    "  day, th_month, th_year = value[0], value[1], '25' + value[2]\n",
    "\n",
    "  thai_abbr_months = {\n",
    "      \"ม.ค.\": \"01\",\n",
    "      \"ก.พ.\": \"02\",\n",
    "      \"มี.ค.\": \"03\",\n",
    "      \"เม.ย.\": \"04\",\n",
    "      \"พ.ค.\": \"05\",\n",
    "      \"มิ.ย.\": \"06\",\n",
    "      \"ก.ค.\": \"07\",\n",
    "      \"ส.ค.\": \"08\",\n",
    "      \"ก.ย.\": \"09\",\n",
    "      \"ต.ค.\": \"10\",\n",
    "      \"พ.ย.\": \"11\",\n",
    "      \"ธ.ค.\": \"12\",\n",
    "  }\n",
    "\n",
    "  # แปลงให้อยู่ในรูปแบบ str -> 'y/m/d' แล้วนำมาแปลงเป็นข้อมูลวันที่ด้วย packages datetime.strptime\n",
    "  converted_date = str(int(th_year) - 543) + \"/\" + thai_abbr_months[th_month] + \"/\" + str(day)\n",
    "  date_obj = datetime.strptime(converted_date , '%Y/%m/%d').date()\n",
    "\n",
    "  return date_obj\n",
    "\n",
    "date_cols = ['announce_date', 'transaction_date', 'contract_date', 'contract_finish_date']\n",
    "\n",
    "for col in date_cols:\n",
    "  df[col] = df[col].apply(lambda x: convert_thai_date(x))"
   ]
  },
  {
   "cell_type": "markdown",
   "metadata": {},
   "source": [
    "เนื่องจากข้อมูลตัวเลขอยู่ในรูปแบบ string และคั่นหลักด้วย \",\" จึงทำการแปลงให้เป็น integer\n",
    "ได้แก่ columns `project_money`, `price_build`, `sum_price_agree`, `price_agree`"
   ]
  },
  {
   "cell_type": "code",
   "execution_count": null,
   "metadata": {
    "id": "yuR5MS1WIcC2"
   },
   "outputs": [],
   "source": [
    "# Parse comma number to integer\n",
    "price_cols = ['project_money', 'price_build', 'sum_price_agree', 'price_agree']\n",
    "\n",
    "for col in price_cols:\n",
    "  df[col] = df[col].apply(lambda x: int(str(x).replace(',', '')) if x != None else x)"
   ]
  },
  {
   "cell_type": "markdown",
   "metadata": {},
   "source": [
    "ทำ budget_year ให้เป็น ค.ศ."
   ]
  },
  {
   "cell_type": "code",
   "execution_count": null,
   "metadata": {
    "id": "0LL-bS81QnMj"
   },
   "outputs": [],
   "source": [
    "df['budget_year'] = df['budget_year'] - 543"
   ]
  },
  {
   "cell_type": "markdown",
   "metadata": {},
   "source": [
    "Drop columns ที่ไม่จะไม่นำมาใช้\n",
    "    ** province และ dept_name มีค่าเดียวคือ `กรุงเทพมหานคร`"
   ]
  },
  {
   "cell_type": "code",
   "execution_count": null,
   "metadata": {
    "id": "J4qgxjOdkZYZ"
   },
   "outputs": [],
   "source": [
    "df = df.drop(columns=['project_id', 'province', 'dept_name', 'project_location', 'geom', 'winner_tin', 'contract_no'])"
   ]
  },
  {
   "cell_type": "code",
   "execution_count": null,
   "metadata": {
    "colab": {
     "base_uri": "https://localhost:8080/"
    },
    "id": "QymC-66CBTuU",
    "outputId": "4153a590-127b-4a16-ac98-24eff2c8b08e"
   },
   "outputs": [],
   "source": [
    "df.isnull().sum()"
   ]
  },
  {
   "cell_type": "code",
   "execution_count": null,
   "metadata": {
    "colab": {
     "base_uri": "https://localhost:8080/"
    },
    "id": "ONmmyE0RQmlJ",
    "outputId": "01bf988c-8342-4f1a-c869-dbb7a12c275a"
   },
   "outputs": [],
   "source": [
    "df.isna().sum()"
   ]
  },
  {
   "cell_type": "markdown",
   "metadata": {},
   "source": [
    "ตรวจสอบค่า missing ของ `district` และ `sub_district` แล้วพบว่า `dept_sub_name` มีค่าเป็น `สำนักงานเขตบางนา` ทั้งหมด จึง fill ค่า missing ด้วย `บางนา`"
   ]
  },
  {
   "cell_type": "code",
   "execution_count": null,
   "metadata": {
    "colab": {
     "base_uri": "https://localhost:8080/",
     "height": 1000
    },
    "id": "Vn5nsvM4CpAZ",
    "outputId": "77b593d2-6209-4c46-c902-b36a1e4c3f1d"
   },
   "outputs": [],
   "source": [
    "# Check missing of district\n",
    "df[df['district'].isnull()]"
   ]
  },
  {
   "cell_type": "code",
   "execution_count": null,
   "metadata": {
    "id": "QvwCgx5ueveb"
   },
   "outputs": [],
   "source": [
    "df = df.fillna({\"district\":\"บางนา\", \"subdistrict\":\"บางนา\"})"
   ]
  },
  {
   "cell_type": "markdown",
   "metadata": {},
   "source": [
    "ตรวจสอบค่า missing ของ `winner` แล้วพบว่า `project_name` มีค่าเป็น `เช่าที่ดินจากสำนักงานทรัพย์สินส่วนพระมหากษัตริย์` ซึ่งเกี่ยวข้องกัน จึง fill ค่า missing ด้วย `สำนักงานทรัพย์สินส่วนพระมหากษัตริย์`"
   ]
  },
  {
   "cell_type": "code",
   "execution_count": null,
   "metadata": {
    "colab": {
     "base_uri": "https://localhost:8080/",
     "height": 197
    },
    "id": "mvrWS4ZkfGJU",
    "outputId": "d9cf8bf9-fb01-40c7-8f4a-19362e10f0bb"
   },
   "outputs": [],
   "source": [
    "# Check missing of winner\n",
    "df[df['winner'].isnull()]"
   ]
  },
  {
   "cell_type": "code",
   "execution_count": null,
   "metadata": {
    "id": "CsCpRkEFgzmx"
   },
   "outputs": [],
   "source": [
    "df = df.fillna({\"winner\":\"สำนักงานทรัพย์สินส่วนพระมหากษัตริย์\"})"
   ]
  },
  {
   "cell_type": "markdown",
   "metadata": {},
   "source": [
    "ทำการ fill missing ของ `price_build` (ราคากลาง) ด้วยค่าเฉลี่ยของ `project_money` (งบประมาณ) และ `sum_price_agree` (ราคาที่ตกลง)"
   ]
  },
  {
   "cell_type": "code",
   "execution_count": null,
   "metadata": {
    "colab": {
     "base_uri": "https://localhost:8080/",
     "height": 583
    },
    "id": "ZAFWnwUikOlw",
    "outputId": "9cad0017-e4ca-44ee-cffb-23608a9b3958"
   },
   "outputs": [],
   "source": [
    "df[df['price_build'].isnull()]"
   ]
  },
  {
   "cell_type": "code",
   "execution_count": null,
   "metadata": {
    "id": "fA7K1zYxkQUD"
   },
   "outputs": [],
   "source": [
    "fill_price_build = (df['project_money'] + df['sum_price_agree']) / 2\n",
    "df = df.fillna({\"price_build\": fill_price_build})"
   ]
  },
  {
   "cell_type": "markdown",
   "metadata": {},
   "source": [
    "`announce_date` และ `contract_finish_date` ไม่มีวิธีการที่จะสามารถ fill missing ได้ จึงละเว้นให้เป็นค่า missing"
   ]
  },
  {
   "cell_type": "code",
   "execution_count": null,
   "metadata": {},
   "outputs": [],
   "source": [
    "# announce_date and contract_finish_date can't be fill\n",
    "df.isnull().sum()"
   ]
  },
  {
   "cell_type": "markdown",
   "metadata": {
    "id": "kCEEYiyW26j4"
   },
   "source": [
    "# Task 5: Analyse and Summarise"
   ]
  },
  {
   "cell_type": "markdown",
   "metadata": {},
   "source": [
    "หลังจากที่นำข้อมูลมาทำการ pre-processing แล้วจึงมาทำการวิเคราะห์ต่อ"
   ]
  },
  {
   "cell_type": "code",
   "execution_count": null,
   "metadata": {},
   "outputs": [],
   "source": [
    "# Set Thai font for matplotlib visualiztion\n",
    "from matplotlib import rcParams\n",
    "rcParams['font.family'] = 'sans-serif'\n",
    "rcParams['font.sans-serif'] = ['SF Thonburi']"
   ]
  },
  {
   "cell_type": "code",
   "execution_count": null,
   "metadata": {
    "colab": {
     "base_uri": "https://localhost:8080/",
     "height": 300
    },
    "id": "g7NrxkYilyr3",
    "outputId": "9843fa15-e232-469c-f02e-dfa792e0549f"
   },
   "outputs": [],
   "source": [
    "df.describe()"
   ]
  },
  {
   "cell_type": "markdown",
   "metadata": {},
   "source": [
    "ทำการแสดง bar chart ของงบประมาณรวมทั้งหมดในแต่ละปี\n",
    "- การใช้งบประมาณมีแนวโน้มสูงขึ้นตั้งแต่ปี 2018"
   ]
  },
  {
   "cell_type": "code",
   "execution_count": null,
   "metadata": {
    "colab": {
     "base_uri": "https://localhost:8080/",
     "height": 312
    },
    "id": "IdINad794uH1",
    "outputId": "8cdaa212-ebaf-4fbd-d95f-48f8898b7e17"
   },
   "outputs": [],
   "source": [
    "# Bar char of budget money between 2015-2021\n",
    "df.groupby('budget_year')['project_money'].sum().plot(kind='barh')\n",
    "plt.title(\"จำนวนงบประมาณในปี 2015 - 2021\", weight='bold', fontsize=14)\n",
    "plt.xlabel('หมื่นล้านบาท')\n",
    "plt.show()"
   ]
  },
  {
   "cell_type": "markdown",
   "metadata": {},
   "source": [
    "แสดง line plot ของจำนวนงบประมาณในแต่ละปี แบ่งตามประเภทของโครงการ\n",
    "- พบว่าโครงการประเภทก่อสร้างมีแนวโน้มที่ใช้งบประมาณที่สูงขึ้น"
   ]
  },
  {
   "cell_type": "code",
   "execution_count": null,
   "metadata": {},
   "outputs": [],
   "source": [
    "# line plot of budget money between 2015-2021 by project type\n",
    "df.groupby(['budget_year', 'project_type_name'])['project_money'].sum().unstack().plot(figsize=(10,5), style='.-')\n",
    "plt.title(\"จำนวนงบประมาณในปี 2015 - 2021 แยกตามประเภทโครงการ\", weight='bold', fontsize=14)\n",
    "plt.ylabel('หมื่นล้านบาท')\n",
    "plt.grid(color = 'grey', linestyle = '--', linewidth = 0.5)\n",
    "plt.show()"
   ]
  },
  {
   "cell_type": "code",
   "execution_count": null,
   "metadata": {},
   "outputs": [],
   "source": [
    "top_10_type = pd.DataFrame(df.groupby(['project_type_name'])['project_money'].sum())\n",
    "top_10_type"
   ]
  },
  {
   "cell_type": "markdown",
   "metadata": {},
   "source": [
    "แสดง scatter plot ของการกระจายงบประมาณเทียบกับวันที่ทำสัญญา\n",
    "- ตั้งแต่ปี 2018 มีการกระจายที่มากขึ้น แสดงถึงการใช้งบประมาณที่สูงขึ้น"
   ]
  },
  {
   "cell_type": "code",
   "execution_count": null,
   "metadata": {},
   "outputs": [],
   "source": [
    "plt.figure(figsize=(30,10))\n",
    "plt.scatter(df['contract_date'], df['project_money'], color='red')\n",
    "plt.ylabel('หมี่นล้านบาท')\n",
    "plt.title(\"การกระจายของงบประมาณนับตั้งแต่วันทำสัญญาโครงการ\", weight='bold', fontsize=14)\n",
    "plt.show()"
   ]
  },
  {
   "cell_type": "markdown",
   "metadata": {},
   "source": [
    "แสดง pie chart ของผู้ชนะในการประมูลสัญญาจ้างมากสุด 5 อันดับ\n",
    "- `บริษัท ปตท. จำกัด(มหาชน)` ชนะไปถึง 385 ครั้ง\n",
    "- และเป็นการ `ซื้อ` ทั้งหมด คาดว่าเป็นการซื้อน้ำมันจาก `บริษัท ปตท. จำกัด(มหาชน)`"
   ]
  },
  {
   "cell_type": "code",
   "execution_count": null,
   "metadata": {},
   "outputs": [],
   "source": [
    "# top 10 winner\n",
    "\n",
    "top_winner = df.groupby('winner')['winner'].count().sort_values(ascending=False).head(5)\n",
    "\n",
    "fig, ax = plt.subplots(figsize=(8, 8), subplot_kw=dict(aspect=\"equal\"), facecolor='white')\n",
    "key = top_winner.keys()\n",
    "data = top_winner\n",
    "\n",
    "def func(pct, allvals):\n",
    "    absolute = int(np.round(pct/100.*np.sum(allvals)))\n",
    "    return \"{:.1f}%\\n({:d} ครั้ง)\".format(pct, absolute)\n",
    "\n",
    "wedges, texts, autotexts = ax.pie(data, autopct=lambda pct: func(pct, data),\n",
    "                                  textprops=dict(color=\"w\"))\n",
    "ax.legend(wedges, key,\n",
    "          title=\"Winners\",\n",
    "          loc=\"center left\",\n",
    "          bbox_to_anchor=(1, 0, 0.5, 1))\n",
    "\n",
    "plt.setp(autotexts, size=11, weight=\"bold\")\n",
    "ax.set_title(\"ผู้ชนะในการประมูลสัญญาจ้างมากสุด 5 อันดับ\", fontsize=16, weight=\"bold\")\n",
    "\n",
    "\n",
    "plt.show()"
   ]
  },
  {
   "cell_type": "code",
   "execution_count": null,
   "metadata": {},
   "outputs": [],
   "source": [
    "df[df['winner'] == 'บริษัท ปตท. จำกัด(มหาชน)'].groupby('project_type_name')['project_type_name'].count()"
   ]
  },
  {
   "cell_type": "markdown",
   "metadata": {},
   "source": [
    "แสดง 10 อันดับหน่วยงานที่ใช้งบประมาณรวมสูงสุด"
   ]
  },
  {
   "cell_type": "code",
   "execution_count": null,
   "metadata": {},
   "outputs": [],
   "source": [
    "top_10_dept = pd.DataFrame(df.groupby('dept_sub_name')['project_money'].sum())\n",
    "top_10_dept.nlargest(n=10,columns=['project_money'])"
   ]
  },
  {
   "cell_type": "markdown",
   "metadata": {},
   "source": [
    "แสดง 10 อันดับเขตที่ใช้งบประมาณรวมสูงสุด"
   ]
  },
  {
   "cell_type": "code",
   "execution_count": null,
   "metadata": {},
   "outputs": [],
   "source": [
    "top_10_dist = pd.DataFrame(df.groupby(['district'])['project_money'].sum())\n",
    "top_10_dist.nlargest(n=10,columns=['project_money'])"
   ]
  },
  {
   "cell_type": "markdown",
   "metadata": {},
   "source": [
    "แสดงอัตราส่วนของสถานะโครงการที่ `อยู่ระหว่างดำเนินการ` และ `สิ้นสุดสัญญา`\n"
   ]
  },
  {
   "cell_type": "code",
   "execution_count": null,
   "metadata": {},
   "outputs": [],
   "source": [
    "# plot project status\n",
    "status = df.groupby(['budget_year', 'project_status']).size().unstack(fill_value=0)\n",
    "\n",
    "ax = status.plot.bar(color=['orange', 'green'], figsize=(10,5))\n",
    "plt.ylabel(\"จำนวน\")\n",
    "plt.title(\"สถานะสัญญาในปีงบประมาณ 2015 - 2021\", weight='bold', fontsize=14)\n",
    "plt.legend(loc=\"lower left\",bbox_to_anchor=(0.8,1.0))\n",
    "for container in ax.containers:\n",
    "    ax.bar_label(container)\n",
    "\n",
    "plt.show()"
   ]
  },
  {
   "cell_type": "markdown",
   "metadata": {},
   "source": [
    "แสดง line plot และ scatter plot ของราคาสัญญาที่ตกลงเปรียบเทียบกับเส้นราคากลาง\n",
    "- พบว่างบประมาณในช่วงราคาที่ยังไม่สูงยังไม่ห่างจากเส้นราคากลางมาก\n",
    "- แต่ในช่วงงบประมาณที่สูงขึ้นจะสามารถตกลงราคาที่ต่ำกว่าราคากลางได้"
   ]
  },
  {
   "cell_type": "code",
   "execution_count": null,
   "metadata": {},
   "outputs": [],
   "source": [
    "# plot price_agree compare to price_build\n",
    "plt.figure(figsize=(8,5))\n",
    "plt.scatter(df['project_money'], df['price_agree'], color='green')\n",
    "plt.plot(df['price_build'],df['price_build'], color='red')\n",
    "plt.xlabel('project_money (หมื่นล้านบาท)')\n",
    "plt.ylabel('price_agree (หมื่นล้านบาท)')\n",
    "plt.title(\"ราคาสัญญาที่ตกลงเปรียบเทียบกับเส้นราคากลาง\", weight='bold', fontsize=14)\n",
    "plt.show()"
   ]
  },
  {
   "cell_type": "markdown",
   "metadata": {},
   "source": [
    "## Summary"
   ]
  },
  {
   "cell_type": "markdown",
   "metadata": {},
   "source": [
    "- งบประมาณใน `กรุงเทพมหานคร` มีแนวโน้มที่สูงขึ้นตั้งแต่ปี 2018 ซึ่งโครงการที่ใช้งบประมาณมากที่สุดจะเกี่ยวข้องกับ `การก่อสร้าง`\n",
    "- `บริษัท ปตท. จำกัด(มหาชน)` เป็นผู้ที่ชนะการประมูลโครงการได้มากที่สุด ที่ 385 ครั้ง เป็นโครงการการซื้อน้ำมันทั้งหมด\n",
    "- `ดินแดง` เป็นเขตที่ใช้งบประมาณสูงที่สุดและหน่วยงาน `กองกำจัดมูลฝอย สำนักสิ่งแวดล้อม` เป็นหน่วยงานที่ใช้งบประมาณสูงที่สุด\n",
    "- งบประมาณยิ่งสูง ยิ่งสามารถตกลงได้ต่ำกว่าราคากลาง\n",
    "\n",
    "ปัญหาที่พบ\n",
    "- เป็นข้อมูลที่เกี่ยวกับโครงการสัญญาของภาครัฐ ทำให้ผู้จัดทำที่ยังไม่มีประสบการณ์ไม่สามารถเข้าใจระเบียบวิธีการของสัญญาที่ซับซ้อนได้มากนัก\n",
    "- ช้อมูลส่วนมากเป็นข้อมูล categorical"
   ]
  }
 ],
 "metadata": {
  "colab": {
   "collapsed_sections": [],
   "provenance": []
  },
  "kernelspec": {
   "display_name": "Python 3 (ipykernel)",
   "language": "python",
   "name": "python3"
  },
  "language_info": {
   "codemirror_mode": {
    "name": "ipython",
    "version": 3
   },
   "file_extension": ".py",
   "mimetype": "text/x-python",
   "name": "python",
   "nbconvert_exporter": "python",
   "pygments_lexer": "ipython3",
   "version": "3.9.12"
  },
  "vscode": {
   "interpreter": {
    "hash": "d853cb24e8f7628e3ba29dc09518236c084a73039b3bc92092f3293b2fe13772"
   }
  }
 },
 "nbformat": 4,
 "nbformat_minor": 1
}
