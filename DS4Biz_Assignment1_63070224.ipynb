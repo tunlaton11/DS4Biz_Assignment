{
 "cells": [
  {
   "cell_type": "markdown",
   "metadata": {
    "id": "isLnpeSqXInY"
   },
   "source": [
    "# Task 1: API ที่นำมาใช้"
   ]
  },
  {
   "cell_type": "markdown",
   "metadata": {},
   "source": [
    "จัดทำโดย นายตุลธร วงศ์ชัย รหัสนักศึกษา 63070224"
   ]
  },
  {
   "cell_type": "markdown",
   "metadata": {
    "id": "Hd2_oCSrXUNi"
   },
   "source": [
    "สำหรับ API ที่นำมาใช้งานมีชื่อว่า ภาษีไปไหน? ซึ่งเกี่ยวกับการใช้งบประมาณจากภาษีของประชาชนแจกจ่ายไปให้แก่หน่วยงานของภาครัฐ source: https://govspending.data.go.th/api/documentation"
   ]
  },
  {
   "cell_type": "markdown",
   "metadata": {
    "id": "zaFxr9Wr9YK1"
   },
   "source": [
    "## Import Packages"
   ]
  },
  {
   "cell_type": "code",
   "execution_count": 1,
   "metadata": {
    "id": "9ftwltIC9XmA"
   },
   "outputs": [],
   "source": [
    "import pandas as pd\n",
    "import matplotlib.pyplot as plt\n",
    "import requests\n",
    "import urllib.request\n",
    "import json\n",
    "import csv\n",
    "from datetime import datetime\n",
    "import numpy as np"
   ]
  },
  {
   "cell_type": "code",
   "execution_count": 2,
   "metadata": {
    "id": "GJ4tkGiT6DCi"
   },
   "outputs": [],
   "source": [
    "api_key = \"Y8DPWYVlNC4668nI7DjJS3GSmQR4ZcVR\""
   ]
  },
  {
   "cell_type": "markdown",
   "metadata": {
    "id": "X2JHKGg8XfwI"
   },
   "source": [
    "# Task 2: Collect data from API"
   ]
  },
  {
   "cell_type": "markdown",
   "metadata": {},
   "source": [
    "ทางผู้จัดทำต้องการข้อมูลของหน่วยงานที่อยู่ใน `กรุงเทพมหานคร` จึงมีวิธีขึ้นตอนดังนี้\n",
    "1. ทำการ requests เพื่อหา `dept_code` ของ `กรุงเทพมหานคร`\n",
    "2. นำ `dept_code` ที่ได้จากขึ้นตอนแรกมาเป็น parameter เพื่อใช้ในการ requests ข้อมูลของ `กรุงเทพมหานคร`\n",
    "3. ทำการเขียนข้อมูลที่ได้รับ response กลับมาให้อยู่ใน format `.csv`"
   ]
  },
  {
   "cell_type": "code",
   "execution_count": 3,
   "metadata": {
    "id": "Qo-RG7bVS-aD"
   },
   "outputs": [],
   "source": [
    "def find_dept_code(dept_name, api_key):\n",
    "  url = f\"https://opend.data.go.th/govspending/egpdepartment?api-key={api_key}&limit=10&dept_name={dept_name}\"\n",
    "  response = requests.get(url)\n",
    "  data = response.json()\n",
    "\n",
    "  bkk_code = ''\n",
    "  for i in data['result']:\n",
    "    if i['dept_name'] == 'กรุงเทพมหานคร':\n",
    "      bkk_code = i['dept_code']\n",
    "      break\n",
    "\n",
    "  return bkk_code  # string\n",
    "\n",
    "def get_raw_data(limit, api_key, year, dept_code):\n",
    "  url = f\"https://opend.data.go.th/govspending/cgdcontract?api-key={api_key}&year={year}&limit={limit}&dept_code={dept_code}\"\n",
    "  response = requests.get(url)\n",
    "  data = response.json()\n",
    "  data = data['result']\n",
    "\n",
    "  for i in data: # ทำการแตกข้อมูลใน list ของ contract ออกมา\n",
    "    i.update(i['contract'][0])\n",
    "    del i['contract']\n",
    "\n",
    "  return data # object(dict)\n",
    "\n",
    "def write_to_csv(file_path, heading, rows):\n",
    "  with open(file_path, 'w', encoding='UTF8', newline='') as f:\n",
    "    writer = csv.DictWriter(f, fieldnames=heading)\n",
    "    writer.writeheader()\n",
    "    writer.writerows(rows)\n"
   ]
  },
  {
   "cell_type": "markdown",
   "metadata": {
    "id": "X5A-K0nbniVL"
   },
   "source": [
    "# Task 3: Parse the data to .csv format"
   ]
  },
  {
   "cell_type": "markdown",
   "metadata": {},
   "source": [
    "สร้าง folder ที่ชื่อว่า data แล้วสร้างไฟล์เปล่า bkk_CGDContract_data.csv ด้วย UNIX Command"
   ]
  },
  {
   "cell_type": "code",
   "execution_count": 4,
   "metadata": {
    "id": "06ag16GUnPf1"
   },
   "outputs": [
    {
     "name": "stderr",
     "output_type": "stream",
     "text": [
      "'touch' is not recognized as an internal or external command,\n",
      "operable program or batch file.\n"
     ]
    }
   ],
   "source": [
    "!mkdir data\n",
    "!cd data && touch bkk_CGDContract_data.csv"
   ]
  },
  {
   "cell_type": "markdown",
   "metadata": {},
   "source": [
    "นำ function ที่สร้างจาก Task2 มาใช้ในการดึงข้อมูล โดยจะดึงข้อมูลจากหน่วยงาน `กรุงเทพมหานคร` จากปี พ.ศ. 2558 - 2564 ปีละ 400 objects รวมเป็น 2800 objects"
   ]
  },
  {
   "cell_type": "code",
   "execution_count": 5,
   "metadata": {
    "id": "vl4ujA-Jus90"
   },
   "outputs": [
    {
     "ename": "ChunkedEncodingError",
     "evalue": "('Connection broken: IncompleteRead(3965 bytes read, 4227 more expected)', IncompleteRead(3965 bytes read, 4227 more expected))",
     "output_type": "error",
     "traceback": [
      "\u001b[1;31m---------------------------------------------------------------------------\u001b[0m",
      "\u001b[1;31mIncompleteRead\u001b[0m                            Traceback (most recent call last)",
      "File \u001b[1;32m~\\anaconda3\\lib\\site-packages\\urllib3\\response.py:441\u001b[0m, in \u001b[0;36mHTTPResponse._error_catcher\u001b[1;34m(self)\u001b[0m\n\u001b[0;32m    440\u001b[0m \u001b[38;5;28;01mtry\u001b[39;00m:\n\u001b[1;32m--> 441\u001b[0m     \u001b[38;5;28;01myield\u001b[39;00m\n\u001b[0;32m    443\u001b[0m \u001b[38;5;28;01mexcept\u001b[39;00m SocketTimeout:\n\u001b[0;32m    444\u001b[0m     \u001b[38;5;66;03m# FIXME: Ideally we'd like to include the url in the ReadTimeoutError but\u001b[39;00m\n\u001b[0;32m    445\u001b[0m     \u001b[38;5;66;03m# there is yet no clean way to get at it from this context.\u001b[39;00m\n",
      "File \u001b[1;32m~\\anaconda3\\lib\\site-packages\\urllib3\\response.py:770\u001b[0m, in \u001b[0;36mHTTPResponse.read_chunked\u001b[1;34m(self, amt, decode_content)\u001b[0m\n\u001b[0;32m    769\u001b[0m     \u001b[38;5;28;01mbreak\u001b[39;00m\n\u001b[1;32m--> 770\u001b[0m chunk \u001b[38;5;241m=\u001b[39m \u001b[38;5;28;43mself\u001b[39;49m\u001b[38;5;241;43m.\u001b[39;49m\u001b[43m_handle_chunk\u001b[49m\u001b[43m(\u001b[49m\u001b[43mamt\u001b[49m\u001b[43m)\u001b[49m\n\u001b[0;32m    771\u001b[0m decoded \u001b[38;5;241m=\u001b[39m \u001b[38;5;28mself\u001b[39m\u001b[38;5;241m.\u001b[39m_decode(\n\u001b[0;32m    772\u001b[0m     chunk, decode_content\u001b[38;5;241m=\u001b[39mdecode_content, flush_decoder\u001b[38;5;241m=\u001b[39m\u001b[38;5;28;01mFalse\u001b[39;00m\n\u001b[0;32m    773\u001b[0m )\n",
      "File \u001b[1;32m~\\anaconda3\\lib\\site-packages\\urllib3\\response.py:723\u001b[0m, in \u001b[0;36mHTTPResponse._handle_chunk\u001b[1;34m(self, amt)\u001b[0m\n\u001b[0;32m    722\u001b[0m \u001b[38;5;28;01melse\u001b[39;00m:  \u001b[38;5;66;03m# amt > self.chunk_left\u001b[39;00m\n\u001b[1;32m--> 723\u001b[0m     returned_chunk \u001b[38;5;241m=\u001b[39m \u001b[38;5;28;43mself\u001b[39;49m\u001b[38;5;241;43m.\u001b[39;49m\u001b[43m_fp\u001b[49m\u001b[38;5;241;43m.\u001b[39;49m\u001b[43m_safe_read\u001b[49m\u001b[43m(\u001b[49m\u001b[38;5;28;43mself\u001b[39;49m\u001b[38;5;241;43m.\u001b[39;49m\u001b[43mchunk_left\u001b[49m\u001b[43m)\u001b[49m\n\u001b[0;32m    724\u001b[0m     \u001b[38;5;28mself\u001b[39m\u001b[38;5;241m.\u001b[39m_fp\u001b[38;5;241m.\u001b[39m_safe_read(\u001b[38;5;241m2\u001b[39m)  \u001b[38;5;66;03m# Toss the CRLF at the end of the chunk.\u001b[39;00m\n",
      "File \u001b[1;32m~\\anaconda3\\lib\\http\\client.py:628\u001b[0m, in \u001b[0;36mHTTPResponse._safe_read\u001b[1;34m(self, amt)\u001b[0m\n\u001b[0;32m    627\u001b[0m \u001b[38;5;28;01mif\u001b[39;00m \u001b[38;5;129;01mnot\u001b[39;00m chunk:\n\u001b[1;32m--> 628\u001b[0m     \u001b[38;5;28;01mraise\u001b[39;00m IncompleteRead(\u001b[38;5;124mb\u001b[39m\u001b[38;5;124m'\u001b[39m\u001b[38;5;124m'\u001b[39m\u001b[38;5;241m.\u001b[39mjoin(s), amt)\n\u001b[0;32m    629\u001b[0m s\u001b[38;5;241m.\u001b[39mappend(chunk)\n",
      "\u001b[1;31mIncompleteRead\u001b[0m: IncompleteRead(3965 bytes read, 4227 more expected)",
      "\nDuring handling of the above exception, another exception occurred:\n",
      "\u001b[1;31mProtocolError\u001b[0m                             Traceback (most recent call last)",
      "File \u001b[1;32m~\\anaconda3\\lib\\site-packages\\requests\\models.py:760\u001b[0m, in \u001b[0;36mResponse.iter_content.<locals>.generate\u001b[1;34m()\u001b[0m\n\u001b[0;32m    759\u001b[0m \u001b[38;5;28;01mtry\u001b[39;00m:\n\u001b[1;32m--> 760\u001b[0m     \u001b[38;5;28;01mfor\u001b[39;00m chunk \u001b[38;5;129;01min\u001b[39;00m \u001b[38;5;28mself\u001b[39m\u001b[38;5;241m.\u001b[39mraw\u001b[38;5;241m.\u001b[39mstream(chunk_size, decode_content\u001b[38;5;241m=\u001b[39m\u001b[38;5;28;01mTrue\u001b[39;00m):\n\u001b[0;32m    761\u001b[0m         \u001b[38;5;28;01myield\u001b[39;00m chunk\n",
      "File \u001b[1;32m~\\anaconda3\\lib\\site-packages\\urllib3\\response.py:575\u001b[0m, in \u001b[0;36mHTTPResponse.stream\u001b[1;34m(self, amt, decode_content)\u001b[0m\n\u001b[0;32m    574\u001b[0m \u001b[38;5;28;01mif\u001b[39;00m \u001b[38;5;28mself\u001b[39m\u001b[38;5;241m.\u001b[39mchunked \u001b[38;5;129;01mand\u001b[39;00m \u001b[38;5;28mself\u001b[39m\u001b[38;5;241m.\u001b[39msupports_chunked_reads():\n\u001b[1;32m--> 575\u001b[0m     \u001b[38;5;28;01mfor\u001b[39;00m line \u001b[38;5;129;01min\u001b[39;00m \u001b[38;5;28mself\u001b[39m\u001b[38;5;241m.\u001b[39mread_chunked(amt, decode_content\u001b[38;5;241m=\u001b[39mdecode_content):\n\u001b[0;32m    576\u001b[0m         \u001b[38;5;28;01myield\u001b[39;00m line\n",
      "File \u001b[1;32m~\\anaconda3\\lib\\site-packages\\urllib3\\response.py:796\u001b[0m, in \u001b[0;36mHTTPResponse.read_chunked\u001b[1;34m(self, amt, decode_content)\u001b[0m\n\u001b[0;32m    795\u001b[0m \u001b[38;5;28;01mif\u001b[39;00m \u001b[38;5;28mself\u001b[39m\u001b[38;5;241m.\u001b[39m_original_response:\n\u001b[1;32m--> 796\u001b[0m     \u001b[38;5;28mself\u001b[39m\u001b[38;5;241m.\u001b[39m_original_response\u001b[38;5;241m.\u001b[39mclose()\n",
      "File \u001b[1;32m~\\anaconda3\\lib\\contextlib.py:137\u001b[0m, in \u001b[0;36m_GeneratorContextManager.__exit__\u001b[1;34m(self, typ, value, traceback)\u001b[0m\n\u001b[0;32m    136\u001b[0m \u001b[38;5;28;01mtry\u001b[39;00m:\n\u001b[1;32m--> 137\u001b[0m     \u001b[38;5;28;43mself\u001b[39;49m\u001b[38;5;241;43m.\u001b[39;49m\u001b[43mgen\u001b[49m\u001b[38;5;241;43m.\u001b[39;49m\u001b[43mthrow\u001b[49m\u001b[43m(\u001b[49m\u001b[43mtyp\u001b[49m\u001b[43m,\u001b[49m\u001b[43m \u001b[49m\u001b[43mvalue\u001b[49m\u001b[43m,\u001b[49m\u001b[43m \u001b[49m\u001b[43mtraceback\u001b[49m\u001b[43m)\u001b[49m\n\u001b[0;32m    138\u001b[0m \u001b[38;5;28;01mexcept\u001b[39;00m \u001b[38;5;167;01mStopIteration\u001b[39;00m \u001b[38;5;28;01mas\u001b[39;00m exc:\n\u001b[0;32m    139\u001b[0m     \u001b[38;5;66;03m# Suppress StopIteration *unless* it's the same exception that\u001b[39;00m\n\u001b[0;32m    140\u001b[0m     \u001b[38;5;66;03m# was passed to throw().  This prevents a StopIteration\u001b[39;00m\n\u001b[0;32m    141\u001b[0m     \u001b[38;5;66;03m# raised inside the \"with\" statement from being suppressed.\u001b[39;00m\n",
      "File \u001b[1;32m~\\anaconda3\\lib\\site-packages\\urllib3\\response.py:458\u001b[0m, in \u001b[0;36mHTTPResponse._error_catcher\u001b[1;34m(self)\u001b[0m\n\u001b[0;32m    456\u001b[0m \u001b[38;5;28;01mexcept\u001b[39;00m (HTTPException, SocketError) \u001b[38;5;28;01mas\u001b[39;00m e:\n\u001b[0;32m    457\u001b[0m     \u001b[38;5;66;03m# This includes IncompleteRead.\u001b[39;00m\n\u001b[1;32m--> 458\u001b[0m     \u001b[38;5;28;01mraise\u001b[39;00m ProtocolError(\u001b[38;5;124m\"\u001b[39m\u001b[38;5;124mConnection broken: \u001b[39m\u001b[38;5;132;01m%r\u001b[39;00m\u001b[38;5;124m\"\u001b[39m \u001b[38;5;241m%\u001b[39m e, e)\n\u001b[0;32m    460\u001b[0m \u001b[38;5;66;03m# If no exception is thrown, we should avoid cleaning up\u001b[39;00m\n\u001b[0;32m    461\u001b[0m \u001b[38;5;66;03m# unnecessarily.\u001b[39;00m\n",
      "\u001b[1;31mProtocolError\u001b[0m: ('Connection broken: IncompleteRead(3965 bytes read, 4227 more expected)', IncompleteRead(3965 bytes read, 4227 more expected))",
      "\nDuring handling of the above exception, another exception occurred:\n",
      "\u001b[1;31mChunkedEncodingError\u001b[0m                      Traceback (most recent call last)",
      "Input \u001b[1;32mIn [5]\u001b[0m, in \u001b[0;36m<cell line: 6>\u001b[1;34m()\u001b[0m\n\u001b[0;32m      5\u001b[0m raw_data \u001b[38;5;241m=\u001b[39m []\n\u001b[0;32m      6\u001b[0m \u001b[38;5;28;01mfor\u001b[39;00m year \u001b[38;5;129;01min\u001b[39;00m \u001b[38;5;28mrange\u001b[39m(\u001b[38;5;241m2558\u001b[39m, \u001b[38;5;241m2565\u001b[39m):\n\u001b[1;32m----> 7\u001b[0m   raw_data \u001b[38;5;241m+\u001b[39m\u001b[38;5;241m=\u001b[39m \u001b[43mget_raw_data\u001b[49m\u001b[43m(\u001b[49m\u001b[38;5;241;43m400\u001b[39;49m\u001b[43m,\u001b[49m\u001b[43m \u001b[49m\u001b[43mapi_key\u001b[49m\u001b[43m,\u001b[49m\u001b[43m \u001b[49m\u001b[43myear\u001b[49m\u001b[43m,\u001b[49m\u001b[43m \u001b[49m\u001b[43mbkk_dept_code\u001b[49m\u001b[43m)\u001b[49m\n",
      "Input \u001b[1;32mIn [3]\u001b[0m, in \u001b[0;36mget_raw_data\u001b[1;34m(limit, api_key, year, dept_code)\u001b[0m\n\u001b[0;32m     14\u001b[0m \u001b[38;5;28;01mdef\u001b[39;00m \u001b[38;5;21mget_raw_data\u001b[39m(limit, api_key, year, dept_code):\n\u001b[0;32m     15\u001b[0m   url \u001b[38;5;241m=\u001b[39m \u001b[38;5;124mf\u001b[39m\u001b[38;5;124m\"\u001b[39m\u001b[38;5;124mhttps://opend.data.go.th/govspending/cgdcontract?api-key=\u001b[39m\u001b[38;5;132;01m{\u001b[39;00mapi_key\u001b[38;5;132;01m}\u001b[39;00m\u001b[38;5;124m&year=\u001b[39m\u001b[38;5;132;01m{\u001b[39;00myear\u001b[38;5;132;01m}\u001b[39;00m\u001b[38;5;124m&limit=\u001b[39m\u001b[38;5;132;01m{\u001b[39;00mlimit\u001b[38;5;132;01m}\u001b[39;00m\u001b[38;5;124m&dept_code=\u001b[39m\u001b[38;5;132;01m{\u001b[39;00mdept_code\u001b[38;5;132;01m}\u001b[39;00m\u001b[38;5;124m\"\u001b[39m\n\u001b[1;32m---> 16\u001b[0m   response \u001b[38;5;241m=\u001b[39m \u001b[43mrequests\u001b[49m\u001b[38;5;241;43m.\u001b[39;49m\u001b[43mget\u001b[49m\u001b[43m(\u001b[49m\u001b[43murl\u001b[49m\u001b[43m)\u001b[49m\n\u001b[0;32m     17\u001b[0m   data \u001b[38;5;241m=\u001b[39m response\u001b[38;5;241m.\u001b[39mjson()\n\u001b[0;32m     18\u001b[0m   data \u001b[38;5;241m=\u001b[39m data[\u001b[38;5;124m'\u001b[39m\u001b[38;5;124mresult\u001b[39m\u001b[38;5;124m'\u001b[39m]\n",
      "File \u001b[1;32m~\\anaconda3\\lib\\site-packages\\requests\\api.py:75\u001b[0m, in \u001b[0;36mget\u001b[1;34m(url, params, **kwargs)\u001b[0m\n\u001b[0;32m     64\u001b[0m \u001b[38;5;28;01mdef\u001b[39;00m \u001b[38;5;21mget\u001b[39m(url, params\u001b[38;5;241m=\u001b[39m\u001b[38;5;28;01mNone\u001b[39;00m, \u001b[38;5;241m*\u001b[39m\u001b[38;5;241m*\u001b[39mkwargs):\n\u001b[0;32m     65\u001b[0m     \u001b[38;5;124mr\u001b[39m\u001b[38;5;124;03m\"\"\"Sends a GET request.\u001b[39;00m\n\u001b[0;32m     66\u001b[0m \n\u001b[0;32m     67\u001b[0m \u001b[38;5;124;03m    :param url: URL for the new :class:`Request` object.\u001b[39;00m\n\u001b[1;32m   (...)\u001b[0m\n\u001b[0;32m     72\u001b[0m \u001b[38;5;124;03m    :rtype: requests.Response\u001b[39;00m\n\u001b[0;32m     73\u001b[0m \u001b[38;5;124;03m    \"\"\"\u001b[39;00m\n\u001b[1;32m---> 75\u001b[0m     \u001b[38;5;28;01mreturn\u001b[39;00m request(\u001b[38;5;124m'\u001b[39m\u001b[38;5;124mget\u001b[39m\u001b[38;5;124m'\u001b[39m, url, params\u001b[38;5;241m=\u001b[39mparams, \u001b[38;5;241m*\u001b[39m\u001b[38;5;241m*\u001b[39mkwargs)\n",
      "File \u001b[1;32m~\\anaconda3\\lib\\site-packages\\requests\\api.py:61\u001b[0m, in \u001b[0;36mrequest\u001b[1;34m(method, url, **kwargs)\u001b[0m\n\u001b[0;32m     57\u001b[0m \u001b[38;5;66;03m# By using the 'with' statement we are sure the session is closed, thus we\u001b[39;00m\n\u001b[0;32m     58\u001b[0m \u001b[38;5;66;03m# avoid leaving sockets open which can trigger a ResourceWarning in some\u001b[39;00m\n\u001b[0;32m     59\u001b[0m \u001b[38;5;66;03m# cases, and look like a memory leak in others.\u001b[39;00m\n\u001b[0;32m     60\u001b[0m \u001b[38;5;28;01mwith\u001b[39;00m sessions\u001b[38;5;241m.\u001b[39mSession() \u001b[38;5;28;01mas\u001b[39;00m session:\n\u001b[1;32m---> 61\u001b[0m     \u001b[38;5;28;01mreturn\u001b[39;00m session\u001b[38;5;241m.\u001b[39mrequest(method\u001b[38;5;241m=\u001b[39mmethod, url\u001b[38;5;241m=\u001b[39murl, \u001b[38;5;241m*\u001b[39m\u001b[38;5;241m*\u001b[39mkwargs)\n",
      "File \u001b[1;32m~\\anaconda3\\lib\\site-packages\\requests\\sessions.py:529\u001b[0m, in \u001b[0;36mSession.request\u001b[1;34m(self, method, url, params, data, headers, cookies, files, auth, timeout, allow_redirects, proxies, hooks, stream, verify, cert, json)\u001b[0m\n\u001b[0;32m    524\u001b[0m send_kwargs \u001b[38;5;241m=\u001b[39m {\n\u001b[0;32m    525\u001b[0m     \u001b[38;5;124m'\u001b[39m\u001b[38;5;124mtimeout\u001b[39m\u001b[38;5;124m'\u001b[39m: timeout,\n\u001b[0;32m    526\u001b[0m     \u001b[38;5;124m'\u001b[39m\u001b[38;5;124mallow_redirects\u001b[39m\u001b[38;5;124m'\u001b[39m: allow_redirects,\n\u001b[0;32m    527\u001b[0m }\n\u001b[0;32m    528\u001b[0m send_kwargs\u001b[38;5;241m.\u001b[39mupdate(settings)\n\u001b[1;32m--> 529\u001b[0m resp \u001b[38;5;241m=\u001b[39m \u001b[38;5;28mself\u001b[39m\u001b[38;5;241m.\u001b[39msend(prep, \u001b[38;5;241m*\u001b[39m\u001b[38;5;241m*\u001b[39msend_kwargs)\n\u001b[0;32m    531\u001b[0m \u001b[38;5;28;01mreturn\u001b[39;00m resp\n",
      "File \u001b[1;32m~\\anaconda3\\lib\\site-packages\\requests\\sessions.py:687\u001b[0m, in \u001b[0;36mSession.send\u001b[1;34m(self, request, **kwargs)\u001b[0m\n\u001b[0;32m    684\u001b[0m         \u001b[38;5;28;01mpass\u001b[39;00m\n\u001b[0;32m    686\u001b[0m \u001b[38;5;28;01mif\u001b[39;00m \u001b[38;5;129;01mnot\u001b[39;00m stream:\n\u001b[1;32m--> 687\u001b[0m     \u001b[43mr\u001b[49m\u001b[38;5;241;43m.\u001b[39;49m\u001b[43mcontent\u001b[49m\n\u001b[0;32m    689\u001b[0m \u001b[38;5;28;01mreturn\u001b[39;00m r\n",
      "File \u001b[1;32m~\\anaconda3\\lib\\site-packages\\requests\\models.py:838\u001b[0m, in \u001b[0;36mResponse.content\u001b[1;34m(self)\u001b[0m\n\u001b[0;32m    836\u001b[0m         \u001b[38;5;28mself\u001b[39m\u001b[38;5;241m.\u001b[39m_content \u001b[38;5;241m=\u001b[39m \u001b[38;5;28;01mNone\u001b[39;00m\n\u001b[0;32m    837\u001b[0m     \u001b[38;5;28;01melse\u001b[39;00m:\n\u001b[1;32m--> 838\u001b[0m         \u001b[38;5;28mself\u001b[39m\u001b[38;5;241m.\u001b[39m_content \u001b[38;5;241m=\u001b[39m \u001b[38;5;124;43mb\u001b[39;49m\u001b[38;5;124;43m'\u001b[39;49m\u001b[38;5;124;43m'\u001b[39;49m\u001b[38;5;241;43m.\u001b[39;49m\u001b[43mjoin\u001b[49m\u001b[43m(\u001b[49m\u001b[38;5;28;43mself\u001b[39;49m\u001b[38;5;241;43m.\u001b[39;49m\u001b[43miter_content\u001b[49m\u001b[43m(\u001b[49m\u001b[43mCONTENT_CHUNK_SIZE\u001b[49m\u001b[43m)\u001b[49m\u001b[43m)\u001b[49m \u001b[38;5;129;01mor\u001b[39;00m \u001b[38;5;124mb\u001b[39m\u001b[38;5;124m'\u001b[39m\u001b[38;5;124m'\u001b[39m\n\u001b[0;32m    840\u001b[0m \u001b[38;5;28mself\u001b[39m\u001b[38;5;241m.\u001b[39m_content_consumed \u001b[38;5;241m=\u001b[39m \u001b[38;5;28;01mTrue\u001b[39;00m\n\u001b[0;32m    841\u001b[0m \u001b[38;5;66;03m# don't need to release the connection; that's been handled by urllib3\u001b[39;00m\n\u001b[0;32m    842\u001b[0m \u001b[38;5;66;03m# since we exhausted the data.\u001b[39;00m\n",
      "File \u001b[1;32m~\\anaconda3\\lib\\site-packages\\requests\\models.py:763\u001b[0m, in \u001b[0;36mResponse.iter_content.<locals>.generate\u001b[1;34m()\u001b[0m\n\u001b[0;32m    761\u001b[0m         \u001b[38;5;28;01myield\u001b[39;00m chunk\n\u001b[0;32m    762\u001b[0m \u001b[38;5;28;01mexcept\u001b[39;00m ProtocolError \u001b[38;5;28;01mas\u001b[39;00m e:\n\u001b[1;32m--> 763\u001b[0m     \u001b[38;5;28;01mraise\u001b[39;00m ChunkedEncodingError(e)\n\u001b[0;32m    764\u001b[0m \u001b[38;5;28;01mexcept\u001b[39;00m DecodeError \u001b[38;5;28;01mas\u001b[39;00m e:\n\u001b[0;32m    765\u001b[0m     \u001b[38;5;28;01mraise\u001b[39;00m ContentDecodingError(e)\n",
      "\u001b[1;31mChunkedEncodingError\u001b[0m: ('Connection broken: IncompleteRead(3965 bytes read, 4227 more expected)', IncompleteRead(3965 bytes read, 4227 more expected))"
     ]
    }
   ],
   "source": [
    "# หา dept_code ของ \"กรุงเทพมหานคร\"\n",
    "bkk_dept_code = find_dept_code(\"กรุงเทพมหานคร\", api_key)\n",
    "\n",
    "# ดึงข้อมูลจากหน่วยงาน \"กรุงเทพมหานคร\" จากปี พ.ศ. 2558 - 2564 ปีละ 400 objects รวมเป็น 2800 objects\n",
    "raw_data = []\n",
    "for year in range(2558, 2565):\n",
    "  raw_data += get_raw_data(400, api_key, year, bkk_dept_code)"
   ]
  },
  {
   "cell_type": "code",
   "execution_count": null,
   "metadata": {
    "colab": {
     "base_uri": "https://localhost:8080/"
    },
    "id": "eLQRNxbFx9RM",
    "outputId": "b73f9159-855e-44a2-aa0b-9cc52a184fbe"
   },
   "outputs": [],
   "source": [
    "# หา columns ของข้อมูล\n",
    "heading = list(raw_data[0].keys())\n",
    "heading"
   ]
  },
  {
   "cell_type": "markdown",
   "metadata": {},
   "source": [
    "เขียนข้อมูลลงบนไฟล์ bkk_CGDContract_data.csv ไว้ใน folder data"
   ]
  },
  {
   "cell_type": "code",
   "execution_count": null,
   "metadata": {
    "id": "GNvlLTmbyPQi"
   },
   "outputs": [],
   "source": [
    "write_to_csv('data/bkk_CGDContract_data.csv', heading, raw_data)"
   ]
  },
  {
   "cell_type": "markdown",
   "metadata": {
    "id": "Yp_eZiVGzp2c"
   },
   "source": [
    "# Task 4: Load Data and Pre-processing"
   ]
  },
  {
   "cell_type": "markdown",
   "metadata": {},
   "source": [
    "หลังจากได้ไฟล์ bkk_CGDContract_data.csv ที่มีข้อมูลทั้งหมด 2800 แถว จึงนำมาทำการอ่านข้อมูลใน pandas และทำการ pre-processing ก่อนนำไปวิเคราะห์ต่อไป"
   ]
  },
  {
   "cell_type": "code",
   "execution_count": null,
   "metadata": {
    "colab": {
     "base_uri": "https://localhost:8080/",
     "height": 1000
    },
    "id": "cHuYrTCzzt5M",
    "outputId": "1f2220bc-6769-42de-e5a4-a55a330cc762"
   },
   "outputs": [],
   "source": [
    "df = pd.read_csv('data/bkk_CGDContract_data.csv', encoding='utf8')\n",
    "df"
   ]
  },
  {
   "cell_type": "markdown",
   "metadata": {},
   "source": [
    "Replace \"-\" to null"
   ]
  },
  {
   "cell_type": "code",
   "execution_count": null,
   "metadata": {
    "id": "jvx1O_6nWHdV"
   },
   "outputs": [],
   "source": [
    "df = df.replace({'-': None})"
   ]
  },
  {
   "cell_type": "markdown",
   "metadata": {},
   "source": [
    " เนื่องจากข้อมูลวันที่อยู่ในรูปแบบของไทย จึงสร้างฟังชั่นเพื่อแปลงให้อยู่ในรูปแบบที่อ่านได้ใน pandas\n",
    " ได้แก่ columns `announce_date`, `transaction_date`, `contract_date`, `contract_finish_date`"
   ]
  },
  {
   "cell_type": "code",
   "execution_count": null,
   "metadata": {
    "id": "j8OcGj7nYrPr"
   },
   "outputs": [],
   "source": [
    "# Parse Thai date to general date\n",
    "def convert_thai_date(value):\n",
    "  if value == None:\n",
    "    return None\n",
    "\n",
    "  value = value.split(' ')\n",
    "  day, th_month, th_year = value[0], value[1], '25' + value[2]\n",
    "\n",
    "  thai_abbr_months = {\n",
    "      \"ม.ค.\": \"01\",\n",
    "      \"ก.พ.\": \"02\",\n",
    "      \"มี.ค.\": \"03\",\n",
    "      \"เม.ย.\": \"04\",\n",
    "      \"พ.ค.\": \"05\",\n",
    "      \"มิ.ย.\": \"06\",\n",
    "      \"ก.ค.\": \"07\",\n",
    "      \"ส.ค.\": \"08\",\n",
    "      \"ก.ย.\": \"09\",\n",
    "      \"ต.ค.\": \"10\",\n",
    "      \"พ.ย.\": \"11\",\n",
    "      \"ธ.ค.\": \"12\",\n",
    "  }\n",
    "\n",
    "  # แปลงให้อยู่ในรูปแบบ str -> 'y/m/d' แล้วนำมาแปลงเป็นข้อมูลวันที่ด้วย packages datetime.strptime\n",
    "  converted_date = str(int(th_year) - 543) + \"/\" + thai_abbr_months[th_month] + \"/\" + str(day)\n",
    "  date_obj = datetime.strptime(converted_date , '%Y/%m/%d').date()\n",
    "\n",
    "  return date_obj\n",
    "\n",
    "date_cols = ['announce_date', 'transaction_date', 'contract_date', 'contract_finish_date']\n",
    "\n",
    "for col in date_cols:\n",
    "  df[col] = df[col].apply(lambda x: convert_thai_date(x))"
   ]
  },
  {
   "cell_type": "markdown",
   "metadata": {},
   "source": [
    "เนื่องจากข้อมูลตัวเลขอยู่ในรูปแบบ string และคั่นหลักด้วย \",\" จึงทำการแปลงให้เป็น integer\n",
    "ได้แก่ columns `project_money`, `price_build`, `sum_price_agree`, `price_agree`"
   ]
  },
  {
   "cell_type": "code",
   "execution_count": null,
   "metadata": {
    "id": "yuR5MS1WIcC2"
   },
   "outputs": [],
   "source": [
    "# Parse comma number to integer\n",
    "price_cols = ['project_money', 'price_build', 'sum_price_agree', 'price_agree']\n",
    "\n",
    "for col in price_cols:\n",
    "  df[col] = df[col].apply(lambda x: int(str(x).replace(',', '')) if x != None else x)"
   ]
  },
  {
   "cell_type": "markdown",
   "metadata": {},
   "source": [
    "ทำ budget_year ให้เป็น ค.ศ."
   ]
  },
  {
   "cell_type": "code",
   "execution_count": null,
   "metadata": {
    "id": "0LL-bS81QnMj"
   },
   "outputs": [],
   "source": [
    "df['budget_year'] = df['budget_year'] - 543"
   ]
  },
  {
   "cell_type": "markdown",
   "metadata": {},
   "source": [
    "Drop columns ที่ไม่จะไม่นำมาใช้\n",
    "    ** province และ dept_name มีค่าเดียวคือ `กรุงเทพมหานคร`"
   ]
  },
  {
   "cell_type": "code",
   "execution_count": null,
   "metadata": {
    "id": "J4qgxjOdkZYZ"
   },
   "outputs": [],
   "source": [
    "df = df.drop(columns=['project_id', 'province', 'dept_name', 'project_location', 'geom', 'winner_tin', 'contract_no'])"
   ]
  },
  {
   "cell_type": "code",
   "execution_count": null,
   "metadata": {
    "colab": {
     "base_uri": "https://localhost:8080/"
    },
    "id": "QymC-66CBTuU",
    "outputId": "4153a590-127b-4a16-ac98-24eff2c8b08e"
   },
   "outputs": [],
   "source": [
    "df.isnull().sum()"
   ]
  },
  {
   "cell_type": "code",
   "execution_count": null,
   "metadata": {
    "colab": {
     "base_uri": "https://localhost:8080/"
    },
    "id": "ONmmyE0RQmlJ",
    "outputId": "01bf988c-8342-4f1a-c869-dbb7a12c275a"
   },
   "outputs": [],
   "source": [
    "df.isna().sum()"
   ]
  },
  {
   "cell_type": "markdown",
   "metadata": {},
   "source": [
    "ตรวจสอบค่า missing ของ `district` และ `sub_district` แล้วพบว่า `dept_sub_name` มีค่าเป็น `สำนักงานเขตบางนา` ทั้งหมด จึง fill ค่า missing ด้วย `บางนา`"
   ]
  },
  {
   "cell_type": "code",
   "execution_count": null,
   "metadata": {
    "colab": {
     "base_uri": "https://localhost:8080/",
     "height": 1000
    },
    "id": "Vn5nsvM4CpAZ",
    "outputId": "77b593d2-6209-4c46-c902-b36a1e4c3f1d"
   },
   "outputs": [],
   "source": [
    "# Check missing of district\n",
    "df[df['district'].isnull()]"
   ]
  },
  {
   "cell_type": "code",
   "execution_count": null,
   "metadata": {
    "id": "QvwCgx5ueveb"
   },
   "outputs": [],
   "source": [
    "df = df.fillna({\"district\":\"บางนา\", \"subdistrict\":\"บางนา\"})"
   ]
  },
  {
   "cell_type": "markdown",
   "metadata": {},
   "source": [
    "ตรวจสอบค่า missing ของ `winner` แล้วพบว่า `project_name` มีค่าเป็น `เช่าที่ดินจากสำนักงานทรัพย์สินส่วนพระมหากษัตริย์` ซึ่งเกี่ยวข้องกัน จึง fill ค่า missing ด้วย `สำนักงานทรัพย์สินส่วนพระมหากษัตริย์`"
   ]
  },
  {
   "cell_type": "code",
   "execution_count": null,
   "metadata": {
    "colab": {
     "base_uri": "https://localhost:8080/",
     "height": 197
    },
    "id": "mvrWS4ZkfGJU",
    "outputId": "d9cf8bf9-fb01-40c7-8f4a-19362e10f0bb"
   },
   "outputs": [],
   "source": [
    "# Check missing of winner\n",
    "df[df['winner'].isnull()]"
   ]
  },
  {
   "cell_type": "code",
   "execution_count": null,
   "metadata": {
    "id": "CsCpRkEFgzmx"
   },
   "outputs": [],
   "source": [
    "df = df.fillna({\"winner\":\"สำนักงานทรัพย์สินส่วนพระมหากษัตริย์\"})"
   ]
  },
  {
   "cell_type": "markdown",
   "metadata": {},
   "source": [
    "ทำการ fill missing ของ `price_build` (ราคากลาง) ด้วยค่าเฉลี่ยของ `project_money` (งบประมาณ) และ `sum_price_agree` (ราคาที่ตกลง)"
   ]
  },
  {
   "cell_type": "code",
   "execution_count": null,
   "metadata": {
    "colab": {
     "base_uri": "https://localhost:8080/",
     "height": 583
    },
    "id": "ZAFWnwUikOlw",
    "outputId": "9cad0017-e4ca-44ee-cffb-23608a9b3958"
   },
   "outputs": [],
   "source": [
    "df[df['price_build'].isnull()]"
   ]
  },
  {
   "cell_type": "code",
   "execution_count": null,
   "metadata": {
    "id": "fA7K1zYxkQUD"
   },
   "outputs": [],
   "source": [
    "fill_price_build = (df['project_money'] + df['sum_price_agree']) / 2\n",
    "df = df.fillna({\"price_build\": fill_price_build})"
   ]
  },
  {
   "cell_type": "markdown",
   "metadata": {},
   "source": [
    "`announce_date` และ `contract_finish_date` ไม่มีวิธีการที่จะสามารถ fill missing ได้ จึงละเว้นให้เป็นค่า missing"
   ]
  },
  {
   "cell_type": "code",
   "execution_count": null,
   "metadata": {},
   "outputs": [],
   "source": [
    "# announce_date and contract_finish_date can't be fill\n",
    "df.isnull().sum()"
   ]
  },
  {
   "cell_type": "markdown",
   "metadata": {
    "id": "kCEEYiyW26j4"
   },
   "source": [
    "# Task 5: Analyse and Summarise"
   ]
  },
  {
   "cell_type": "markdown",
   "metadata": {},
   "source": [
    "หลังจากที่นำข้อมูลมาทำการ pre-processing แล้วจึงมาทำการวิเคราะห์ต่อ"
   ]
  },
  {
   "cell_type": "code",
   "execution_count": null,
   "metadata": {},
   "outputs": [],
   "source": [
    "# Set Thai font for matplotlib visualiztion\n",
    "from matplotlib import rcParams\n",
    "rcParams['font.family'] = 'sans-serif'\n",
    "rcParams['font.sans-serif'] = ['SF Thonburi']"
   ]
  },
  {
   "cell_type": "code",
   "execution_count": null,
   "metadata": {
    "colab": {
     "base_uri": "https://localhost:8080/",
     "height": 300
    },
    "id": "g7NrxkYilyr3",
    "outputId": "9843fa15-e232-469c-f02e-dfa792e0549f"
   },
   "outputs": [],
   "source": [
    "df.describe()"
   ]
  },
  {
   "cell_type": "markdown",
   "metadata": {},
   "source": [
    "ทำการแสดง bar chart ของงบประมาณรวมทั้งหมดในแต่ละปี\n",
    "- การใช้งบประมาณมีแนวโน้มสูงขึ้นตั้งแต่ปี 2018"
   ]
  },
  {
   "cell_type": "code",
   "execution_count": null,
   "metadata": {
    "colab": {
     "base_uri": "https://localhost:8080/",
     "height": 312
    },
    "id": "IdINad794uH1",
    "outputId": "8cdaa212-ebaf-4fbd-d95f-48f8898b7e17"
   },
   "outputs": [],
   "source": [
    "# Bar char of budget money between 2015-2021\n",
    "df.groupby('budget_year')['project_money'].sum().plot(kind='barh')\n",
    "plt.title(\"จำนวนงบประมาณในปี 2015 - 2021\", weight='bold', fontsize=14)\n",
    "plt.xlabel('หมื่นล้านบาท')\n",
    "plt.show()"
   ]
  },
  {
   "cell_type": "markdown",
   "metadata": {},
   "source": [
    "แสดง line plot ของจำนวนงบประมาณในแต่ละปี แบ่งตามประเภทของโครงการ\n",
    "- พบว่าโครงการประเภทก่อสร้างมีแนวโน้มที่ใช้งบประมาณที่สูงขึ้น"
   ]
  },
  {
   "cell_type": "code",
   "execution_count": null,
   "metadata": {},
   "outputs": [],
   "source": [
    "# line plot of budget money between 2015-2021 by project type\n",
    "df.groupby(['budget_year', 'project_type_name'])['project_money'].sum().unstack().plot(figsize=(10,5), style='.-')\n",
    "plt.title(\"จำนวนงบประมาณในปี 2015 - 2021 แยกตามประเภทโครงการ\", weight='bold', fontsize=14)\n",
    "plt.ylabel('หมื่นล้านบาท')\n",
    "plt.grid(color = 'grey', linestyle = '--', linewidth = 0.5)\n",
    "plt.show()"
   ]
  },
  {
   "cell_type": "code",
   "execution_count": null,
   "metadata": {},
   "outputs": [],
   "source": [
    "top_10_type = pd.DataFrame(df.groupby(['project_type_name'])['project_money'].sum())\n",
    "top_10_type"
   ]
  },
  {
   "cell_type": "markdown",
   "metadata": {},
   "source": [
    "แสดง scatter plot ของการกระจายงบประมาณเทียบกับวันที่ทำสัญญา\n",
    "- ตั้งแต่ปี 2018 มีการกระจายที่มากขึ้น แสดงถึงการใช้งบประมาณที่สูงขึ้น"
   ]
  },
  {
   "cell_type": "code",
   "execution_count": null,
   "metadata": {},
   "outputs": [],
   "source": [
    "plt.figure(figsize=(30,10))\n",
    "plt.scatter(df['contract_date'], df['project_money'], color='red')\n",
    "plt.ylabel('หมี่นล้านบาท')\n",
    "plt.title(\"การกระจายของงบประมาณนับตั้งแต่วันทำสัญญาโครงการ\", weight='bold', fontsize=14)\n",
    "plt.show()"
   ]
  },
  {
   "cell_type": "markdown",
   "metadata": {},
   "source": [
    "แสดง pie chart ของผู้ชนะในการประมูลสัญญาจ้างมากสุด 5 อันดับ\n",
    "- `บริษัท ปตท. จำกัด(มหาชน)` ชนะไปถึง 385 ครั้ง\n",
    "- และเป็นการ `ซื้อ` ทั้งหมด คาดว่าเป็นการซื้อน้ำมันจาก `บริษัท ปตท. จำกัด(มหาชน)`"
   ]
  },
  {
   "cell_type": "code",
   "execution_count": null,
   "metadata": {},
   "outputs": [],
   "source": [
    "# top 10 winner\n",
    "\n",
    "top_winner = df.groupby('winner')['winner'].count().sort_values(ascending=False).head(5)\n",
    "\n",
    "fig, ax = plt.subplots(figsize=(8, 8), subplot_kw=dict(aspect=\"equal\"), facecolor='white')\n",
    "key = top_winner.keys()\n",
    "data = top_winner\n",
    "\n",
    "def func(pct, allvals):\n",
    "    absolute = int(np.round(pct/100.*np.sum(allvals)))\n",
    "    return \"{:.1f}%\\n({:d} ครั้ง)\".format(pct, absolute)\n",
    "\n",
    "wedges, texts, autotexts = ax.pie(data, autopct=lambda pct: func(pct, data),\n",
    "                                  textprops=dict(color=\"w\"))\n",
    "ax.legend(wedges, key,\n",
    "          title=\"Winners\",\n",
    "          loc=\"center left\",\n",
    "          bbox_to_anchor=(1, 0, 0.5, 1))\n",
    "\n",
    "plt.setp(autotexts, size=11, weight=\"bold\")\n",
    "ax.set_title(\"ผู้ชนะในการประมูลสัญญาจ้างมากสุด 5 อันดับ\", fontsize=16, weight=\"bold\")\n",
    "\n",
    "\n",
    "plt.show()"
   ]
  },
  {
   "cell_type": "code",
   "execution_count": null,
   "metadata": {},
   "outputs": [],
   "source": [
    "df[df['winner'] == 'บริษัท ปตท. จำกัด(มหาชน)'].groupby('project_type_name')['project_type_name'].count()"
   ]
  },
  {
   "cell_type": "markdown",
   "metadata": {},
   "source": [
    "แสดง 10 อันดับหน่วยงานที่ใช้งบประมาณรวมสูงสุด"
   ]
  },
  {
   "cell_type": "code",
   "execution_count": null,
   "metadata": {},
   "outputs": [],
   "source": [
    "top_10_dept = pd.DataFrame(df.groupby('dept_sub_name')['project_money'].sum())\n",
    "top_10_dept.nlargest(n=10,columns=['project_money'])"
   ]
  },
  {
   "cell_type": "markdown",
   "metadata": {},
   "source": [
    "แสดง 10 อันดับเขตที่ใช้งบประมาณรวมสูงสุด"
   ]
  },
  {
   "cell_type": "code",
   "execution_count": null,
   "metadata": {},
   "outputs": [],
   "source": [
    "top_10_dist = pd.DataFrame(df.groupby(['district'])['project_money'].sum())\n",
    "top_10_dist.nlargest(n=10,columns=['project_money'])"
   ]
  },
  {
   "cell_type": "markdown",
   "metadata": {},
   "source": [
    "แสดงอัตราส่วนของสถานะโครงการที่ `อยู่ระหว่างดำเนินการ` และ `สิ้นสุดสัญญา`\n"
   ]
  },
  {
   "cell_type": "code",
   "execution_count": null,
   "metadata": {},
   "outputs": [],
   "source": [
    "# plot project status\n",
    "status = df.groupby(['budget_year', 'project_status']).size().unstack(fill_value=0)\n",
    "\n",
    "ax = status.plot.bar(color=['orange', 'green'], figsize=(10,5))\n",
    "plt.ylabel(\"จำนวน\")\n",
    "plt.title(\"สถานะสัญญาในปีงบประมาณ 2015 - 2021\", weight='bold', fontsize=14)\n",
    "plt.legend(loc=\"lower left\",bbox_to_anchor=(0.8,1.0))\n",
    "for container in ax.containers:\n",
    "    ax.bar_label(container)\n",
    "\n",
    "plt.show()"
   ]
  },
  {
   "cell_type": "markdown",
   "metadata": {},
   "source": [
    "แสดง line plot และ scatter plot ของราคาสัญญาที่ตกลงเปรียบเทียบกับเส้นราคากลาง\n",
    "- พบว่างบประมาณในช่วงราคาที่ยังไม่สูงยังไม่ห่างจากเส้นราคากลางมาก\n",
    "- แต่ในช่วงงบประมาณที่สูงขึ้นจะสามารถตกลงราคาที่ต่ำกว่าราคากลางได้"
   ]
  },
  {
   "cell_type": "code",
   "execution_count": null,
   "metadata": {},
   "outputs": [],
   "source": [
    "# plot price_agree compare to price_build\n",
    "plt.figure(figsize=(8,5))\n",
    "plt.scatter(df['project_money'], df['price_agree'], color='green')\n",
    "plt.plot(df['price_build'],df['price_build'], color='red')\n",
    "plt.xlabel('project_money (หมื่นล้านบาท)')\n",
    "plt.ylabel('price_agree (หมื่นล้านบาท)')\n",
    "plt.title(\"ราคาสัญญาที่ตกลงเปรียบเทียบกับเส้นราคากลาง\", weight='bold', fontsize=14)\n",
    "plt.show()"
   ]
  },
  {
   "cell_type": "markdown",
   "metadata": {},
   "source": [
    "## Summary"
   ]
  },
  {
   "cell_type": "markdown",
   "metadata": {},
   "source": [
    "- งบประมาณใน `กรุงเทพมหานคร` มีแนวโน้มที่สูงขึ้นตั้งแต่ปี 2018 ซึ่งโครงการที่ใช้งบประมาณมากที่สุดจะเกี่ยวข้องกับ `การก่อสร้าง`\n",
    "- `บริษัท ปตท. จำกัด(มหาชน)` เป็นผู้ที่ชนะการประมูลโครงการได้มากที่สุด ที่ 385 ครั้ง เป็นโครงการการซื้อน้ำมันทั้งหมด\n",
    "- `ดินแดง` เป็นเขตที่ใช้งบประมาณสูงที่สุดและหน่วยงาน `กองกำจัดมูลฝอย สำนักสิ่งแวดล้อม` เป็นหน่วยงานที่ใช้งบประมาณสูงที่สุด\n",
    "- งบประมาณยิ่งสูง ยิ่งสามารถตกลงได้ต่ำกว่าราคากลาง\n",
    "\n",
    "ปัญหาที่พบ\n",
    "- เป็นข้อมูลที่เกี่ยวกับโครงการสัญญาของภาครัฐ ทำให้ผู้จัดทำที่ยังไม่มีประสบการณ์ไม่สามารถเข้าใจระเบียบวิธีการของสัญญาที่ซับซ้อนได้มากนัก\n",
    "- ช้อมูลส่วนมากเป็นข้อมูล categorical"
   ]
  }
 ],
 "metadata": {
  "colab": {
   "collapsed_sections": [],
   "provenance": []
  },
  "kernelspec": {
   "display_name": "Python 3 (ipykernel)",
   "language": "python",
   "name": "python3"
  },
  "language_info": {
   "codemirror_mode": {
    "name": "ipython",
    "version": 3
   },
   "file_extension": ".py",
   "mimetype": "text/x-python",
   "name": "python",
   "nbconvert_exporter": "python",
   "pygments_lexer": "ipython3",
   "version": "3.9.12"
  },
  "vscode": {
   "interpreter": {
    "hash": "d853cb24e8f7628e3ba29dc09518236c084a73039b3bc92092f3293b2fe13772"
   }
  }
 },
 "nbformat": 4,
 "nbformat_minor": 4
}
